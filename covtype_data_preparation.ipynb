{
 "cells": [
  {
   "cell_type": "markdown",
   "metadata": {},
   "source": [
    "# Dataset: Ground Cover Types\n"
   ]
  },
  {
   "cell_type": "code",
   "execution_count": null,
   "metadata": {},
   "outputs": [],
   "source": [
    "import pandas\n",
    "import numpy as np\n",
    "import matplotlib.pyplot as plt\n",
    "%matplotlib inline\n",
    "import time\n",
    "\n",
    "# globals\n",
    "n_row, n_col = 2, 5\n",
    "n_components = n_row * n_col\n",
    "\n",
    "np.random.seed(42)"
   ]
  },
  {
   "cell_type": "code",
   "execution_count": null,
   "metadata": {},
   "outputs": [],
   "source": [
    "## This script is applied to the covtype dataset available at https://s3.amazonaws.com/h2o-public-test-data/bigdata/laptop/covtype/covtype.data\n",
    "## It converts expanded categorical levels back to dense columns\n",
    "f = open(\"data/covtype.data.csv\",\"r\")\n",
    "lines = f.readlines()\n",
    "data = [l.split(\",\") for l in lines]\n",
    "def which_level(x, f, t):\n",
    "  for i in range(f,t):\n",
    "    if x[i] == '1':\n",
    "      return i - f\n",
    "      raise Exception()\n",
    "cats1 = [which_level(l,10,14) for l in data]\n",
    "cats2 = [which_level(l,14,54) for l in data]\n",
    "data2 = [data[i][0:10] + [str(cats1[i]),str(cats2[i]),str(data[i][54])] for i in range(len(data))]\n",
    "output_data = [','.join(x) for x in data2]\n",
    "f = open('data/covtype_processed.data.csv','w')\n",
    "f.write(\"Elevation, Aspect, Slope, Horizontal_Distance_To_Hydrology, Vertical_Distance_To_Hydrology, Horizontal_Distance_To_Roadways, Hillshade_9am, Hillshade_Noon, Hillshade_3pm, Horizontal_Distance_To_Fire_Points, Wilderness_Area, Soil_Type, Cover_Type\\n\")\n",
    "f.write(\"\".join(output_data) )\n",
    "f.close()"
   ]
  },
  {
   "cell_type": "code",
   "execution_count": null,
   "metadata": {},
   "outputs": [],
   "source": [
    "def read_dataset(path, num_rows):\n",
    "    #./data/covtype.data.csv\n",
    "    # With 581,012 instances we need to reduce for computability (dropped one or two zeros)\n",
    "    full_data = pandas.read_csv(path, sep=',')\n",
    "    RandInd = np.random.choice(len(full_data),num_rows)\n",
    "    data = full_data.iloc[RandInd,:].reset_index().drop(['index'], axis = 1)\n",
    "    instances = len(data.values)\n",
    "    features = len(data.values[0])-1\n",
    "    X = data.values[:, 0:features]\n",
    "    y = data.values[:, features]\n",
    "\n",
    "    return X, y"
   ]
  },
  {
   "cell_type": "code",
   "execution_count": null,
   "metadata": {},
   "outputs": [],
   "source": [
    "# num_rows max 581012\n",
    "X, y = read_dataset('data/covtype_processed.data.csv',5810)"
   ]
  },
  {
   "cell_type": "code",
   "execution_count": null,
   "metadata": {},
   "outputs": [],
   "source": [
    "len(X)"
   ]
  },
  {
   "cell_type": "code",
   "execution_count": null,
   "metadata": {},
   "outputs": [],
   "source": []
  },
  {
   "cell_type": "code",
   "execution_count": null,
   "metadata": {},
   "outputs": [],
   "source": []
  },
  {
   "cell_type": "code",
   "execution_count": null,
   "metadata": {},
   "outputs": [],
   "source": []
  },
  {
   "cell_type": "code",
   "execution_count": null,
   "metadata": {},
   "outputs": [],
   "source": []
  }
 ],
 "metadata": {
  "kernelspec": {
   "display_name": "Python [conda env:Anaconda3]",
   "language": "python",
   "name": "conda-env-Anaconda3-py"
  },
  "language_info": {
   "codemirror_mode": {
    "name": "ipython",
    "version": 3
   },
   "file_extension": ".py",
   "mimetype": "text/x-python",
   "name": "python",
   "nbconvert_exporter": "python",
   "pygments_lexer": "ipython3",
   "version": "3.6.5"
  }
 },
 "nbformat": 4,
 "nbformat_minor": 2
}
